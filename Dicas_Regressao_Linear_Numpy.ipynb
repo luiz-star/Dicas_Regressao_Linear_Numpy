{
  "nbformat": 4,
  "nbformat_minor": 0,
  "metadata": {
    "colab": {
      "name": "Dicas_Regressao_Linear_Numpy.ipynb",
      "provenance": [],
      "authorship_tag": "ABX9TyMJVUjxAD2aHYsanmKs+xbV",
      "include_colab_link": true
    },
    "kernelspec": {
      "name": "python3",
      "display_name": "Python 3"
    },
    "language_info": {
      "name": "python"
    }
  },
  "cells": [
    {
      "cell_type": "markdown",
      "metadata": {
        "id": "view-in-github",
        "colab_type": "text"
      },
      "source": [
        "<a href=\"https://colab.research.google.com/github/luiz-star/Dicas_Regressao_Linear_Numpy/blob/main/Dicas_Regressao_Linear_Numpy.ipynb\" target=\"_parent\"><img src=\"https://colab.research.google.com/assets/colab-badge.svg\" alt=\"Open In Colab\"/></a>"
      ]
    },
    {
      "cell_type": "markdown",
      "metadata": {
        "id": "lAYuPDCVlXcD"
      },
      "source": [
        "# Operações úteis com Numpy"
      ]
    },
    {
      "cell_type": "code",
      "metadata": {
        "id": "ddI-NLoll2o1"
      },
      "source": [
        "# Importando Biblioteca\n",
        "import numpy as np"
      ],
      "execution_count": 2,
      "outputs": []
    },
    {
      "cell_type": "code",
      "metadata": {
        "colab": {
          "base_uri": "https://localhost:8080/"
        },
        "id": "TCXZ0wr-lKrr",
        "outputId": "009cc498-fc7d-40b9-b22a-69e077c67d78"
      },
      "source": [
        "# array\n",
        "x = np.array([[1, 3, 7],\n",
        "              [4, 11, 21],\n",
        "              [42, 8, 9]])\n",
        "print('x:\\n', x)"
      ],
      "execution_count": 3,
      "outputs": [
        {
          "output_type": "stream",
          "text": [
            "x:\n",
            " [[ 1  3  7]\n",
            " [ 4 11 21]\n",
            " [42  8  9]]\n"
          ],
          "name": "stdout"
        }
      ]
    },
    {
      "cell_type": "code",
      "metadata": {
        "colab": {
          "base_uri": "https://localhost:8080/"
        },
        "id": "LkR7peRRl2t3",
        "outputId": "de13c251-4301-4e16-8513-7b5b8b724fff"
      },
      "source": [
        "# reshape: transformar a matriz em um vetor coluna\n",
        "#(3, 3) vira (9, 1): 3*3 = 9*1 = 9\n",
        "print('transformação de um vetor coluna:', x.reshape(9, 1))"
      ],
      "execution_count": 4,
      "outputs": [
        {
          "output_type": "stream",
          "text": [
            "transformação de um vetor coluna: [[ 1]\n",
            " [ 3]\n",
            " [ 7]\n",
            " [ 4]\n",
            " [11]\n",
            " [21]\n",
            " [42]\n",
            " [ 8]\n",
            " [ 9]]\n"
          ],
          "name": "stdout"
        }
      ]
    },
    {
      "cell_type": "code",
      "metadata": {
        "colab": {
          "base_uri": "https://localhost:8080/"
        },
        "id": "WmbgCqEzl2xT",
        "outputId": "60ec589c-3702-4c7a-8ef1-51433d770319"
      },
      "source": [
        "print('transformação de um vetor coluna:', x.reshape(1, 9))"
      ],
      "execution_count": 5,
      "outputs": [
        {
          "output_type": "stream",
          "text": [
            "transformação de um vetor coluna: [[ 1  3  7  4 11 21 42  8  9]]\n"
          ],
          "name": "stdout"
        }
      ]
    },
    {
      "cell_type": "code",
      "metadata": {
        "colab": {
          "base_uri": "https://localhost:8080/"
        },
        "id": "EXJw7K56l21M",
        "outputId": "ff6990a4-3a97-4e5c-8298-544b8a3ab70c"
      },
      "source": [
        "# transformação de matriz\n",
        "print('x transposta:\\n', x.T)  # fazer o que é linha virar coluna e (vice versa)"
      ],
      "execution_count": 7,
      "outputs": [
        {
          "output_type": "stream",
          "text": [
            "x transposta:\n",
            " [[ 1  4 42]\n",
            " [ 3 11  8]\n",
            " [ 7 21  9]]\n"
          ],
          "name": "stdout"
        }
      ]
    },
    {
      "cell_type": "code",
      "metadata": {
        "colab": {
          "base_uri": "https://localhost:8080/"
        },
        "id": "_AHHdgDvnLNv",
        "outputId": "46b99c79-6fb6-418c-cc53-72b071ed5d79"
      },
      "source": [
        "# np.sum: soma em um dado eixo, axis = {0: linha, 1: coluna}\n",
        "print('x:\\n', x)\n",
        "print('soma de todos elementos de x:', np.sum(x))\n",
        "print('soma de x ao longo das linhas:', np.sum(x, axis=0))\n",
        "print('soma de x ao longo das colunas:', np.sum(x, axis=1))"
      ],
      "execution_count": 8,
      "outputs": [
        {
          "output_type": "stream",
          "text": [
            "x:\n",
            " [[ 1  3  7]\n",
            " [ 4 11 21]\n",
            " [42  8  9]]\n",
            "soma de todos elementos de x: 106\n",
            "soma de x ao longo das linhas: [47 22 37]\n",
            "soma de x ao longo das colunas: [11 36 59]\n"
          ],
          "name": "stdout"
        }
      ]
    },
    {
      "cell_type": "code",
      "metadata": {
        "colab": {
          "base_uri": "https://localhost:8080/"
        },
        "id": "4wi3mXG0nLRz",
        "outputId": "5015fcc1-6d0a-43db-ee29-e2d6c1eee30d"
      },
      "source": [
        "#np.mean: média em um dado eixo, axis = {0: linha, 1: coluna}\n",
        "print('x:\\n', x)\n",
        "print('média de todos elementos de x:', np.mean(x))\n",
        "print('média de x ao longo das linhas:', np.mean(x, axis=0))\n",
        "print('media de x ao longo das colunas', np.mean(x, axis=1))"
      ],
      "execution_count": 9,
      "outputs": [
        {
          "output_type": "stream",
          "text": [
            "x:\n",
            " [[ 1  3  7]\n",
            " [ 4 11 21]\n",
            " [42  8  9]]\n",
            "média de todos elementos de x: 11.777777777777779\n",
            "média de x ao longo das linhas: [15.66666667  7.33333333 12.33333333]\n",
            "media de x ao longo das colunas [ 3.66666667 12.         19.66666667]\n"
          ],
          "name": "stdout"
        }
      ]
    },
    {
      "cell_type": "code",
      "metadata": {
        "colab": {
          "base_uri": "https://localhost:8080/"
        },
        "id": "SxZFw3gLqUs1",
        "outputId": "3b8329d0-560a-468e-d326-f541f695f389"
      },
      "source": [
        "# np.where, identificação dos indices onde uma dada condição\n",
        "#é atendida. Uso conjunto de identação booleana\n",
        "cond = x % 2 == 0  # números pares\n",
        "print('condição:\\n', cond)\n",
        "i, j = np.where(cond)  # indices x[i, j] = x[cond]\n",
        "print('índice i (linhas):', i)\n",
        "print('índice j (colunas):', j)\n"
      ],
      "execution_count": 10,
      "outputs": [
        {
          "output_type": "stream",
          "text": [
            "condição:\n",
            " [[False False False]\n",
            " [ True False False]\n",
            " [ True  True False]]\n",
            "índice i (linhas): [1 2 2]\n",
            "índice j (colunas): [0 0 1]\n"
          ],
          "name": "stdout"
        }
      ]
    },
    {
      "cell_type": "code",
      "metadata": {
        "colab": {
          "base_uri": "https://localhost:8080/"
        },
        "id": "qMyMTe37rdpt",
        "outputId": "130aea9f-d1e4-4988-839b-dbfe20b539f3"
      },
      "source": [
        "# indexação booleana e slicing: selecionar as linhas\n",
        "# de x que possuem algum número par\n",
        "print('x:\\n', x)\n",
        "cond = x % 2 ==0  # números pares\n",
        "print('condição: \\n', cond)\n",
        "\n",
        "\n",
        "## se houver alguma condição True na linha a soma será > 0\n",
        "i_row = np.where(np.sum(cond, axis=1)) [0]\n",
        "print('índice das linhas que possuem pares:', i_row)\n",
        "print('linhas que possuem número pares: \\n', x[i_row, :])"
      ],
      "execution_count": 11,
      "outputs": [
        {
          "output_type": "stream",
          "text": [
            "x:\n",
            " [[ 1  3  7]\n",
            " [ 4 11 21]\n",
            " [42  8  9]]\n",
            "condição: \n",
            " [[False False False]\n",
            " [ True False False]\n",
            " [ True  True False]]\n",
            "índice das linhas que possuem pares: [1 2]\n",
            "linhas que possuem número pares: \n",
            " [[ 4 11 21]\n",
            " [42  8  9]]\n"
          ],
          "name": "stdout"
        }
      ]
    },
    {
      "cell_type": "markdown",
      "metadata": {
        "id": "1g4XC6viuLaJ"
      },
      "source": [
        "# Regressão Linear Utilizando NUMPY"
      ]
    },
    {
      "cell_type": "code",
      "metadata": {
        "id": "yrnwUy4Vrdt9"
      },
      "source": [
        "import matplotlib.pyplot as plt\n"
      ],
      "execution_count": 12,
      "outputs": []
    },
    {
      "cell_type": "code",
      "metadata": {
        "id": "63kryX3JujHP"
      },
      "source": [
        "# Dados\n",
        "\n",
        "x = [-1., -0.77777778, -0.55555556, -0.33333333, -0.11111111,\n",
        "     0.11111111, 0.33333333, 0.55555556, 0.77777778, 1. ]\n",
        "\n",
        "y = [-1.13956201, -0.57177999, -0.21697033, 0.5425699, 0.49406657,\n",
        "     1.14972239, 1.64228553, 2.1749824, 2.64773614, 2.95684202]"
      ],
      "execution_count": 13,
      "outputs": []
    },
    {
      "cell_type": "code",
      "metadata": {
        "colab": {
          "base_uri": "https://localhost:8080/",
          "height": 334
        },
        "id": "GhxM1lcLujRN",
        "outputId": "2fc3cecf-37c9-40a8-8454-fab7d34a16a1"
      },
      "source": [
        "# plot dos dados\n",
        "plt.figure(figsize=(10, 5))\n",
        "plt.plot(x, y, 'o', label='dados originais') # usando 'o' significa scatter\n",
        "plt.legend()\n",
        "plt.xlabel('x')\n",
        "plt.ylabel('y')\n",
        "plt.grid()\n",
        "plt.show()"
      ],
      "execution_count": 14,
      "outputs": [
        {
          "output_type": "display_data",
          "data": {
            "image/png": "[encoded data removed]",
            "text/plain": [
              "<Figure size 720x360 with 1 Axes>"
            ]
          },
          "metadata": {
            "tags": [],
            "needs_background": "light"
          }
        }
      ]
    },
    {
      "cell_type": "code",
      "metadata": {
        "colab": {
          "base_uri": "https://localhost:8080/"
        },
        "id": "0Ij_Tr9NujUW",
        "outputId": "d903ad51-1b2b-4cc8-f2c8-9fa224466e28"
      },
      "source": [
        "\"\"\"\n",
        "Iremos estimar uma função do tipo: y = a*x + b\n",
        "ou seja, devemos achar quais os valores de a e b\n",
        "que melhor representam os dados.\n",
        "\n",
        "Os valores reais de a e b são: (a, b): 2, 1\n",
        "\"\"\"\n",
        "\n",
        "# transformando para numpy e vetor coluna\n",
        "x, y = np.array(x).reshape(-1, 1), np.array(y).reshape(-1, 1)\n",
        "\n",
        "# adicionando bias: para estimar o termo b\n",
        "X = np.hstack((x,np.ones(x.shape)))\n",
        "\n",
        "#estimando a e b\n",
        "beta = np.linalg.pinv(X).dot(y) # método para calcular a pseudo inversa\n",
        "print('a estimado:', beta[0][0])\n",
        "print('b estimado:', beta[1] [0])"
      ],
      "execution_count": 15,
      "outputs": [
        {
          "output_type": "stream",
          "text": [
            "a estimado: 2.054149512038485\n",
            "b estimado: 0.967989262\n"
          ],
          "name": "stdout"
        }
      ]
    },
    {
      "cell_type": "code",
      "metadata": {
        "id": "wLOb6PnZujXQ"
      },
      "source": [
        ""
      ],
      "execution_count": null,
      "outputs": []
    }
  ]
}